{
 "cells": [
  {
   "cell_type": "markdown",
   "metadata": {},
   "source": [
    "# Домашнее задание 3\n",
    "\n",
    "Упражнение 1\n",
    "\n"
   ]
  },
  {
   "cell_type": "markdown",
   "metadata": {},
   "source": [
    "Создадим анализируемые последовательности"
   ]
  },
  {
   "cell_type": "code",
   "execution_count": 13,
   "metadata": {},
   "outputs": [],
   "source": [
    "import random"
   ]
  },
  {
   "cell_type": "code",
   "execution_count": 14,
   "metadata": {},
   "outputs": [],
   "source": [
    "def from_seq_to_str (x):\n",
    "    ans = ''\n",
    "    for i in range(len(x)):\n",
    "        ans += x[i]\n",
    "    return ans"
   ]
  },
  {
   "cell_type": "code",
   "execution_count": 15,
   "metadata": {},
   "outputs": [],
   "source": [
    "a_s = from_seq_to_str(random.choices([str('A'), str('C'), str('T'), str('G')],k = 100))\n",
    "b_s = from_seq_to_str(random.choices([str('A'), str('C'), str('T'), str('G')],k = 1000))\n",
    "c_s = from_seq_to_str(random.choices([str('A'), str('C'), str('T'), str('G')],k = 100000))\n",
    "\n",
    "a = open('a.txt', 'w')\n",
    "b = open('b.txt', 'w')\n",
    "c = open('c.txt', 'w')\n",
    "\n",
    "a.write(a_s)\n",
    "b.write(b_s)\n",
    "c.write(c_s)\n",
    "\n",
    "a.close()\n",
    "b.close()\n",
    "c.close()\n",
    "\n",
    "# print(a, b, c, sep='\\n\\n')"
   ]
  },
  {
   "cell_type": "markdown",
   "metadata": {},
   "source": [
    "Далее данные последовательности были отправлены через сайт, результаты на скриншотах приложены к ответу на задание."
   ]
  },
  {
   "cell_type": "code",
   "execution_count": null,
   "metadata": {},
   "outputs": [],
   "source": []
  }
 ],
 "metadata": {
  "kernelspec": {
   "display_name": "Python 3",
   "language": "python",
   "name": "python3"
  },
  "language_info": {
   "codemirror_mode": {
    "name": "ipython",
    "version": 3
   },
   "file_extension": ".py",
   "mimetype": "text/x-python",
   "name": "python",
   "nbconvert_exporter": "python",
   "pygments_lexer": "ipython3",
   "version": "3.7.4"
  }
 },
 "nbformat": 4,
 "nbformat_minor": 2
}
